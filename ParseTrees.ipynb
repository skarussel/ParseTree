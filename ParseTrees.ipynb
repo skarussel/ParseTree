{
 "cells": [
  {
   "cell_type": "code",
   "execution_count": 14,
   "id": "87abeb2c-0696-489f-9ed4-a448454b1535",
   "metadata": {},
   "outputs": [],
   "source": [
    "import nltk\n",
    "from nltk.parse import RecursiveDescentParser"
   ]
  },
  {
   "cell_type": "code",
   "execution_count": 5,
   "id": "87634c7b-4355-443d-86fc-890ef84557cf",
   "metadata": {},
   "outputs": [],
   "source": [
    "grammar1 = nltk.CFG.fromstring(\"\"\" \n",
    "S -> NP VP\n",
    "VP -> V NP | V NP PP\n",
    "PP -> P NP\n",
    "V -> 'saw' | 'ate' | 'walked'\n",
    "NP -> 'John' | 'Mary' | 'Bob' | Det N | Det N PP\n",
    "Det -> 'a' | 'an' | 'the' | 'my'\n",
    "N -> 'man' | 'dog' | 'cat' | 'telescope' | 'park'\n",
    "P -> 'in' | 'on' | 'by' | 'with'\n",
    "\"\"\") \n",
    "\n",
    "grammar2 = nltk.CFG.fromstring(\"\"\" \n",
    "S -> NP VP\n",
    "NP -> Det Nom | PropN\n",
    "Nom -> Adj Nom | N\n",
    "VP -> V Adj | V NP | V S | V NP PP\n",
    "PP -> P NP\n",
    "PropN -> 'Buster' | 'Chatterer' | 'Joe'\n",
    "Det -> 'the' | 'a'\n",
    "N -> 'bear' | 'squirrel' | 'tree' | 'fish'\n",
    "Adj -> 'angry' | 'frightened' | 'little' | 'tall'\n",
    "V -> 'chased' | 'said' | 'thought' | 'was' | 'put'\n",
    "P -> 'on'\n",
    "\"\"\") "
   ]
  },
  {
   "cell_type": "markdown",
   "id": "2a3d7c34-b913-4202-99e2-45d895a23785",
   "metadata": {},
   "source": [
    "## Grammar 1"
   ]
  },
  {
   "cell_type": "code",
   "execution_count": 111,
   "id": "2dab23b7-0074-4e02-920a-457ca69b2ea9",
   "metadata": {},
   "outputs": [],
   "source": [
    "rd1 = RecursiveDescentParser(grammar1)\n",
    "sentence1 = 'John ate the dog in my park'\n",
    "sentence2 = 'Bob saw a dog with a telescope'"
   ]
  },
  {
   "cell_type": "code",
   "execution_count": 112,
   "id": "e8c9ba33-7b78-4ec0-8c4b-d41f9a74ea58",
   "metadata": {},
   "outputs": [
    {
     "name": "stdout",
     "output_type": "stream",
     "text": [
      "(S\n",
      "  (NP John)\n",
      "  (VP\n",
      "    (V ate)\n",
      "    (NP (Det the) (N dog))\n",
      "    (PP (P in) (NP (Det my) (N park)))))\n",
      "(S\n",
      "  (NP Bob)\n",
      "  (VP\n",
      "    (V saw)\n",
      "    (NP (Det a) (N dog))\n",
      "    (PP (P with) (NP (Det a) (N telescope)))))\n"
     ]
    }
   ],
   "source": [
    "tree_string1 = ''\n",
    "tree_string2 = ''\n",
    "for t in rd1.parse(sentence1.split()):\n",
    "    tree_string1 = t.pformat()\n",
    "for t in rd1.parse(sentence2.split()):\n",
    "    tree_string2 = t.pformat()\n",
    "print(tree_string1)\n",
    "print(tree_string2)"
   ]
  },
  {
   "cell_type": "code",
   "execution_count": 113,
   "id": "b2aed204-d072-4988-8a08-6fcc7a0d83c1",
   "metadata": {},
   "outputs": [
    {
     "data": {
      "image/png": "[encoded data removed]",
      "text/plain": [
       "Tree('S', [Tree('NP', ['John']), Tree('VP', [Tree('V', ['ate']), Tree('NP', [Tree('Det', ['the']), Tree('N', ['dog'])]), Tree('PP', [Tree('P', ['in']), Tree('NP', [Tree('Det', ['my']), Tree('N', ['park'])])])])])"
      ]
     },
     "metadata": {},
     "output_type": "display_data"
    },
    {
     "data": {
      "image/png": "[encoded data removed]",
      "text/plain": [
       "Tree('S', [Tree('NP', ['Bob']), Tree('VP', [Tree('V', ['saw']), Tree('NP', [Tree('Det', ['a']), Tree('N', ['dog'])]), Tree('PP', [Tree('P', ['with']), Tree('NP', [Tree('Det', ['a']), Tree('N', ['telescope'])])])])])"
      ]
     },
     "metadata": {},
     "output_type": "display_data"
    }
   ],
   "source": [
    "from nltk import Tree\n",
    "from nltk.draw.tree import TreeView\n",
    "from IPython.display import display\n",
    "\n",
    "tree1 = Tree.fromstring(tree_string1)\n",
    "tree2 = Tree.fromstring(tree_string2)\n",
    "display(tree1)\n",
    "display(tree2)"
   ]
  },
  {
   "cell_type": "markdown",
   "id": "b0803e74-d0c0-46ca-b0ed-733c3dd19cf2",
   "metadata": {},
   "source": [
    "## Grammar 2"
   ]
  },
  {
   "cell_type": "code",
   "execution_count": 119,
   "id": "5c6771d7-08fc-49b7-8d53-5402a72c0b4d",
   "metadata": {},
   "outputs": [],
   "source": [
    "rd2 = RecursiveDescentParser(grammar2)\n",
    "sentence1 = 'Joe chased a angry bear'\n",
    "sentence2 = 'Joe was a tall squirrel '"
   ]
  },
  {
   "cell_type": "code",
   "execution_count": 120,
   "id": "6cc0db54-04a5-4ba1-8302-fadd67f5a1a9",
   "metadata": {},
   "outputs": [
    {
     "name": "stdout",
     "output_type": "stream",
     "text": [
      "(S\n",
      "  (NP (PropN Joe))\n",
      "  (VP (V was) (NP (Det a) (Nom (Adj tall) (Nom (N squirrel))))))\n",
      "(S\n",
      "  (NP (PropN Joe))\n",
      "  (VP (V chased) (NP (Det a) (Nom (Adj angry) (Nom (N bear))))))\n",
      "(S\n",
      "  (NP (PropN Joe))\n",
      "  (VP (V was) (NP (Det a) (Nom (Adj tall) (Nom (N squirrel))))))\n"
     ]
    }
   ],
   "source": [
    "tree_string1 = ''\n",
    "tree_string2 = ''\n",
    "for t in rd2.parse(sentence1.split()):\n",
    "    tree_string1 = t.pformat()\n",
    "for t in rd2.parse(sentence2.split()):\n",
    "    tree_string2 = t.pformat()\n",
    "    print(t)\n",
    "print(tree_string1)\n",
    "print(tree_string2)"
   ]
  },
  {
   "cell_type": "code",
   "execution_count": 121,
   "id": "a6fe4811-4c29-49c7-b027-dd1e6db24c29",
   "metadata": {},
   "outputs": [
    {
     "data": {
      "image/png": "[encoded data removed]",
      "text/plain": [
       "Tree('S', [Tree('NP', [Tree('PropN', ['Joe'])]), Tree('VP', [Tree('V', ['chased']), Tree('NP', [Tree('Det', ['a']), Tree('Nom', [Tree('Adj', ['angry']), Tree('Nom', [Tree('N', ['bear'])])])])])])"
      ]
     },
     "metadata": {},
     "output_type": "display_data"
    },
    {
     "data": {
      "image/png": "[encoded data removed]",
      "text/plain": [
       "Tree('S', [Tree('NP', [Tree('PropN', ['Joe'])]), Tree('VP', [Tree('V', ['was']), Tree('NP', [Tree('Det', ['a']), Tree('Nom', [Tree('Adj', ['tall']), Tree('Nom', [Tree('N', ['squirrel'])])])])])])"
      ]
     },
     "metadata": {},
     "output_type": "display_data"
    }
   ],
   "source": [
    "from nltk import Tree\n",
    "from nltk.draw.tree import TreeView\n",
    "from IPython.display import display\n",
    "\n",
    "tree1 = Tree.fromstring(tree_string1)\n",
    "tree2 = Tree.fromstring(tree_string2)\n",
    "display(tree1)\n",
    "display(tree2)"
   ]
  }
 ],
 "metadata": {
  "kernelspec": {
   "display_name": "Python 3",
   "language": "python",
   "name": "python3"
  },
  "language_info": {
   "codemirror_mode": {
    "name": "ipython",
    "version": 3
   },
   "file_extension": ".py",
   "mimetype": "text/x-python",
   "name": "python",
   "nbconvert_exporter": "python",
   "pygments_lexer": "ipython3",
   "version": "3.9.2"
  }
 },
 "nbformat": 4,
 "nbformat_minor": 5
}
