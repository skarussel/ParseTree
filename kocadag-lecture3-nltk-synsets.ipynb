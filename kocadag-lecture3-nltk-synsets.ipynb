{
 "cells": [
  {
   "cell_type": "code",
   "execution_count": 26,
   "id": "9b4cf760-c618-4d24-883b-86b745c34c48",
   "metadata": {},
   "outputs": [],
   "source": [
    "import nltk\n",
    "from nltk.corpus import wordnet\n",
    "from nltk.corpus import stopwords\n",
    "from nltk.tokenize import word_tokenize \n",
    "from nltk.tokenize import RegexpTokenizer"
   ]
  },
  {
   "cell_type": "code",
   "execution_count": null,
   "id": "2efe057c-1f23-41c9-acd1-5f05beed853a",
   "metadata": {},
   "outputs": [
    {
     "name": "stdout",
     "output_type": "stream",
     "text": [
      "showing info https://raw.githubusercontent.com/nltk/nltk_data/gh-pages/index.xml\n"
     ]
    }
   ],
   "source": [
    "nltk.download()"
   ]
  },
  {
   "cell_type": "code",
   "execution_count": 30,
   "id": "10cb66fc-2f8b-461f-954b-c404832259f5",
   "metadata": {},
   "outputs": [],
   "source": [
    "def filter_stop_words(word):\n",
    "    tokenizer = RegexpTokenizer(r'\\w+')\n",
    "    word_tokens = tokenizer.tokenize(word)\n",
    "    stop_words = set(stopwords.words('english')) \n",
    "    filtered_sentence = [w for w in word_tokens if not w in stop_words] \n",
    "    return filtered_sentence\n",
    "\n",
    "def count_matches(word_a , word_b):\n",
    "    matches = [a for a in word_a if a in word_b]\n",
    "    return len(matches)"
   ]
  },
  {
   "cell_type": "code",
   "execution_count": 31,
   "id": "7dff02b1-634c-406f-a3b2-f4867d3d3913",
   "metadata": {},
   "outputs": [],
   "source": [
    "my_meanings = {'politics': 'all methods and institutions of a collective to shape, change and regulate the coexistence of its members',\n",
    "            'justice': 'the distribution of material or non-material goods, as well as rights and obligations, according to certain principles of distribution that are perceived as fair by a society',\n",
    "            'food': 'Natural as well as artificial products to satisfy hunger that are eaten', \n",
    "            'patience': 'The ability to wait'}"
   ]
  },
  {
   "cell_type": "code",
   "execution_count": 35,
   "id": "3b642dae-09c4-48a3-a01b-a903db401114",
   "metadata": {},
   "outputs": [
    {
     "name": "stdout",
     "output_type": "stream",
     "text": [
      "\n",
      "My definition for the word politics got 0 Matches with WordNets definition\n",
      "My Tokens: ['methods', 'institutions', 'collective', 'shape', 'change', 'regulate', 'coexistence', 'members']\n",
      "WordNet Tokens: ['social', 'relations', 'involving', 'intrigue', 'gain', 'authority', 'power']\n",
      "\n",
      "My definition for the word justice got 1 Matches with WordNets definition\n",
      "My Tokens: ['distribution', 'material', 'non', 'material', 'goods', 'well', 'rights', 'obligations', 'according', 'certain', 'principles', 'distribution', 'perceived', 'fair', 'society']\n",
      "WordNet Tokens: ['quality', 'fair']\n",
      "\n",
      "My definition for the word food got 0 Matches with WordNets definition\n",
      "My Tokens: ['Natural', 'well', 'artificial', 'products', 'satisfy', 'hunger', 'eaten']\n",
      "WordNet Tokens: ['substance', 'metabolized', 'animal', 'give', 'energy', 'build', 'tissue']\n",
      "\n",
      "My definition for the word patience got 0 Matches with WordNets definition\n",
      "My Tokens: ['The', 'ability', 'wait']\n",
      "WordNet Tokens: ['good', 'natured', 'tolerance', 'delay', 'incompetence']\n"
     ]
    }
   ],
   "source": [
    "for word, definition in my_meanings.items():\n",
    "    prepared_definition = filter_stop_words(definition)\n",
    "    prepared_wordnet_definition = filter_stop_words(wordnet.synsets(word)[0].definition())\n",
    "    matches = count_matches(prepared_definition, prepared_wordnet_definition)\n",
    "    print(\"\\n\"+f\"My definition for the word {word} got {matches} Matches with WordNets definition\")\n",
    "    print(f\"My Tokens: {prepared_definition}\")\n",
    "    print(f\"WordNet Tokens: {prepared_wordnet_definition}\")"
   ]
  },
  {
   "cell_type": "code",
   "execution_count": null,
   "id": "b5b8bac0-c13d-461f-8488-ddc6bbe8d03b",
   "metadata": {},
   "outputs": [],
   "source": []
  }
 ],
 "metadata": {
  "kernelspec": {
   "display_name": "Python 3",
   "language": "python",
   "name": "python3"
  },
  "language_info": {
   "codemirror_mode": {
    "name": "ipython",
    "version": 3
   },
   "file_extension": ".py",
   "mimetype": "text/x-python",
   "name": "python",
   "nbconvert_exporter": "python",
   "pygments_lexer": "ipython3",
   "version": "3.9.2"
  }
 },
 "nbformat": 4,
 "nbformat_minor": 5
}
